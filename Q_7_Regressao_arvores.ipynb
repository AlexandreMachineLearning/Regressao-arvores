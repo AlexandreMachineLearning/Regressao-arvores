{
  "nbformat": 4,
  "nbformat_minor": 0,
  "metadata": {
    "colab": {
      "name": "Q_7_Regressao_arvores.ipynb",
      "provenance": [],
      "authorship_tag": "ABX9TyM0zA42NQ2ICYK/Bheijt6M",
      "include_colab_link": true
    },
    "kernelspec": {
      "name": "python3",
      "display_name": "Python 3"
    },
    "language_info": {
      "name": "python"
    }
  },
  "cells": [
    {
      "cell_type": "markdown",
      "metadata": {
        "id": "view-in-github",
        "colab_type": "text"
      },
      "source": [
        "<a href=\"https://colab.research.google.com/github/AlexandreMachineLearning/Regressao-arvores/blob/main/Q_7_Regressao_arvores.ipynb\" target=\"_parent\"><img src=\"https://colab.research.google.com/assets/colab-badge.svg\" alt=\"Open In Colab\"/></a>"
      ]
    },
    {
      "cell_type": "markdown",
      "source": [
        " Usando uma árvore de regressão sem podas, com quebras baseadas no MSE e 10-fold crossvalidation, dê os MAE médios para treino e validação para os dados em regressao_q7.csv."
      ],
      "metadata": {
        "id": "Ct4mvHRWfa7e"
      }
    },
    {
      "cell_type": "markdown",
      "source": [
        "Passo 1 - Importação das bibliotecas"
      ],
      "metadata": {
        "id": "8KcLrYXZfbZJ"
      }
    },
    {
      "cell_type": "code",
      "execution_count": 1,
      "metadata": {
        "id": "VDlRTZBKIZ16"
      },
      "outputs": [],
      "source": [
        "import pandas as pd\n",
        "import numpy as np\n",
        "import matplotlib.pyplot as plt"
      ]
    },
    {
      "cell_type": "markdown",
      "source": [
        "Passo 2 - Criação e Carregamento do dataframe"
      ],
      "metadata": {
        "id": "uAyPtDKGf2pK"
      }
    },
    {
      "cell_type": "code",
      "source": [
        "regression_tree_df=pd.read_csv('/content/regressao_Q7.csv')"
      ],
      "metadata": {
        "id": "ABkzDO35I8j7"
      },
      "execution_count": 2,
      "outputs": []
    },
    {
      "cell_type": "code",
      "source": [
        "regression_tree_df"
      ],
      "metadata": {
        "colab": {
          "base_uri": "https://localhost:8080/",
          "height": 488
        },
        "id": "DJ9-6RoGJEdb",
        "outputId": "5c2a1747-820a-41b3-f03e-c17c5a333a63"
      },
      "execution_count": 3,
      "outputs": [
        {
          "output_type": "execute_result",
          "data": {
            "text/html": [
              "\n",
              "  <div id=\"df-697ffadd-b024-4f36-82f5-1ae6c3eb7918\">\n",
              "    <div class=\"colab-df-container\">\n",
              "      <div>\n",
              "<style scoped>\n",
              "    .dataframe tbody tr th:only-of-type {\n",
              "        vertical-align: middle;\n",
              "    }\n",
              "\n",
              "    .dataframe tbody tr th {\n",
              "        vertical-align: top;\n",
              "    }\n",
              "\n",
              "    .dataframe thead th {\n",
              "        text-align: right;\n",
              "    }\n",
              "</style>\n",
              "<table border=\"1\" class=\"dataframe\">\n",
              "  <thead>\n",
              "    <tr style=\"text-align: right;\">\n",
              "      <th></th>\n",
              "      <th>x0</th>\n",
              "      <th>x1</th>\n",
              "      <th>x2</th>\n",
              "      <th>x3</th>\n",
              "      <th>x4</th>\n",
              "      <th>x5</th>\n",
              "      <th>x6</th>\n",
              "      <th>x7</th>\n",
              "      <th>x8</th>\n",
              "      <th>x9</th>\n",
              "      <th>x10</th>\n",
              "      <th>x11</th>\n",
              "      <th>x12</th>\n",
              "      <th>x13</th>\n",
              "      <th>x14</th>\n",
              "      <th>x15</th>\n",
              "      <th>x16</th>\n",
              "      <th>x17</th>\n",
              "      <th>x18</th>\n",
              "      <th>x19</th>\n",
              "      <th>target</th>\n",
              "    </tr>\n",
              "  </thead>\n",
              "  <tbody>\n",
              "    <tr>\n",
              "      <th>0</th>\n",
              "      <td>0.591690</td>\n",
              "      <td>0.591690</td>\n",
              "      <td>1.172172</td>\n",
              "      <td>-0.983677</td>\n",
              "      <td>-1.723861</td>\n",
              "      <td>-1.872732</td>\n",
              "      <td>1.070023</td>\n",
              "      <td>-0.623034</td>\n",
              "      <td>1.705102</td>\n",
              "      <td>2.643913</td>\n",
              "      <td>-1.191899</td>\n",
              "      <td>2.643913</td>\n",
              "      <td>-0.623034</td>\n",
              "      <td>2.643913</td>\n",
              "      <td>-1.191899</td>\n",
              "      <td>0.523268</td>\n",
              "      <td>1.599678</td>\n",
              "      <td>0.228014</td>\n",
              "      <td>0.636366</td>\n",
              "      <td>1.070023</td>\n",
              "      <td>183.381979</td>\n",
              "    </tr>\n",
              "    <tr>\n",
              "      <th>1</th>\n",
              "      <td>0.617718</td>\n",
              "      <td>0.617718</td>\n",
              "      <td>1.066885</td>\n",
              "      <td>-0.994460</td>\n",
              "      <td>-1.660279</td>\n",
              "      <td>-2.006098</td>\n",
              "      <td>0.800897</td>\n",
              "      <td>-0.150230</td>\n",
              "      <td>1.601513</td>\n",
              "      <td>2.227607</td>\n",
              "      <td>-1.389668</td>\n",
              "      <td>2.227607</td>\n",
              "      <td>-0.150230</td>\n",
              "      <td>2.227607</td>\n",
              "      <td>-1.389668</td>\n",
              "      <td>0.946524</td>\n",
              "      <td>1.427928</td>\n",
              "      <td>0.327064</td>\n",
              "      <td>0.605663</td>\n",
              "      <td>0.800897</td>\n",
              "      <td>171.166244</td>\n",
              "    </tr>\n",
              "    <tr>\n",
              "      <th>2</th>\n",
              "      <td>-0.091250</td>\n",
              "      <td>-0.091250</td>\n",
              "      <td>0.460780</td>\n",
              "      <td>-2.076651</td>\n",
              "      <td>-2.903264</td>\n",
              "      <td>-3.110400</td>\n",
              "      <td>-0.361113</td>\n",
              "      <td>-2.029327</td>\n",
              "      <td>0.320967</td>\n",
              "      <td>1.514848</td>\n",
              "      <td>-2.855408</td>\n",
              "      <td>1.514848</td>\n",
              "      <td>-2.029327</td>\n",
              "      <td>1.514848</td>\n",
              "      <td>-2.855408</td>\n",
              "      <td>-0.856214</td>\n",
              "      <td>0.329120</td>\n",
              "      <td>-1.001805</td>\n",
              "      <td>-0.826144</td>\n",
              "      <td>-0.361113</td>\n",
              "      <td>-310.459284</td>\n",
              "    </tr>\n",
              "    <tr>\n",
              "      <th>3</th>\n",
              "      <td>-0.264834</td>\n",
              "      <td>-0.264834</td>\n",
              "      <td>1.061765</td>\n",
              "      <td>-0.539020</td>\n",
              "      <td>-0.972137</td>\n",
              "      <td>-1.102153</td>\n",
              "      <td>1.198790</td>\n",
              "      <td>-0.534910</td>\n",
              "      <td>2.272581</td>\n",
              "      <td>2.748045</td>\n",
              "      <td>-0.306130</td>\n",
              "      <td>2.748045</td>\n",
              "      <td>-0.534910</td>\n",
              "      <td>2.748045</td>\n",
              "      <td>-0.306130</td>\n",
              "      <td>1.134861</td>\n",
              "      <td>1.905080</td>\n",
              "      <td>0.998317</td>\n",
              "      <td>0.916976</td>\n",
              "      <td>1.198790</td>\n",
              "      <td>228.015980</td>\n",
              "    </tr>\n",
              "    <tr>\n",
              "      <th>4</th>\n",
              "      <td>0.308724</td>\n",
              "      <td>0.308724</td>\n",
              "      <td>0.793572</td>\n",
              "      <td>-1.162892</td>\n",
              "      <td>-2.315907</td>\n",
              "      <td>-2.436588</td>\n",
              "      <td>0.038154</td>\n",
              "      <td>-1.335393</td>\n",
              "      <td>1.586416</td>\n",
              "      <td>1.898164</td>\n",
              "      <td>-2.222185</td>\n",
              "      <td>1.898164</td>\n",
              "      <td>-1.335393</td>\n",
              "      <td>1.898164</td>\n",
              "      <td>-2.222185</td>\n",
              "      <td>-0.049834</td>\n",
              "      <td>0.930992</td>\n",
              "      <td>0.196569</td>\n",
              "      <td>-0.607837</td>\n",
              "      <td>0.038154</td>\n",
              "      <td>-51.379428</td>\n",
              "    </tr>\n",
              "    <tr>\n",
              "      <th>...</th>\n",
              "      <td>...</td>\n",
              "      <td>...</td>\n",
              "      <td>...</td>\n",
              "      <td>...</td>\n",
              "      <td>...</td>\n",
              "      <td>...</td>\n",
              "      <td>...</td>\n",
              "      <td>...</td>\n",
              "      <td>...</td>\n",
              "      <td>...</td>\n",
              "      <td>...</td>\n",
              "      <td>...</td>\n",
              "      <td>...</td>\n",
              "      <td>...</td>\n",
              "      <td>...</td>\n",
              "      <td>...</td>\n",
              "      <td>...</td>\n",
              "      <td>...</td>\n",
              "      <td>...</td>\n",
              "      <td>...</td>\n",
              "      <td>...</td>\n",
              "    </tr>\n",
              "    <tr>\n",
              "      <th>1995</th>\n",
              "      <td>0.653463</td>\n",
              "      <td>0.653463</td>\n",
              "      <td>1.043070</td>\n",
              "      <td>-0.965785</td>\n",
              "      <td>-1.461673</td>\n",
              "      <td>-1.653403</td>\n",
              "      <td>-0.233265</td>\n",
              "      <td>-1.362894</td>\n",
              "      <td>1.235343</td>\n",
              "      <td>2.740289</td>\n",
              "      <td>-1.478702</td>\n",
              "      <td>2.740289</td>\n",
              "      <td>-1.362894</td>\n",
              "      <td>2.740289</td>\n",
              "      <td>-1.478702</td>\n",
              "      <td>-0.012881</td>\n",
              "      <td>0.771437</td>\n",
              "      <td>-0.324648</td>\n",
              "      <td>0.611042</td>\n",
              "      <td>-0.233265</td>\n",
              "      <td>70.740241</td>\n",
              "    </tr>\n",
              "    <tr>\n",
              "      <th>1996</th>\n",
              "      <td>2.141161</td>\n",
              "      <td>2.141161</td>\n",
              "      <td>2.645677</td>\n",
              "      <td>0.585086</td>\n",
              "      <td>-0.362577</td>\n",
              "      <td>-0.403726</td>\n",
              "      <td>1.990016</td>\n",
              "      <td>0.802879</td>\n",
              "      <td>3.297014</td>\n",
              "      <td>3.838379</td>\n",
              "      <td>-1.362919</td>\n",
              "      <td>3.838379</td>\n",
              "      <td>0.802879</td>\n",
              "      <td>3.838379</td>\n",
              "      <td>-1.362919</td>\n",
              "      <td>2.359985</td>\n",
              "      <td>2.999944</td>\n",
              "      <td>1.710351</td>\n",
              "      <td>0.930585</td>\n",
              "      <td>1.990016</td>\n",
              "      <td>799.716237</td>\n",
              "    </tr>\n",
              "    <tr>\n",
              "      <th>1997</th>\n",
              "      <td>0.570490</td>\n",
              "      <td>0.570490</td>\n",
              "      <td>1.162729</td>\n",
              "      <td>-0.442137</td>\n",
              "      <td>-1.409529</td>\n",
              "      <td>-1.372226</td>\n",
              "      <td>1.334873</td>\n",
              "      <td>-0.127407</td>\n",
              "      <td>2.095249</td>\n",
              "      <td>2.502916</td>\n",
              "      <td>-0.546508</td>\n",
              "      <td>2.502916</td>\n",
              "      <td>-0.127407</td>\n",
              "      <td>2.502916</td>\n",
              "      <td>-0.546508</td>\n",
              "      <td>1.430442</td>\n",
              "      <td>2.031820</td>\n",
              "      <td>0.872005</td>\n",
              "      <td>1.184509</td>\n",
              "      <td>1.334873</td>\n",
              "      <td>342.857246</td>\n",
              "    </tr>\n",
              "    <tr>\n",
              "      <th>1998</th>\n",
              "      <td>1.043742</td>\n",
              "      <td>1.043742</td>\n",
              "      <td>1.430562</td>\n",
              "      <td>-0.166344</td>\n",
              "      <td>-1.274339</td>\n",
              "      <td>-1.060400</td>\n",
              "      <td>1.513731</td>\n",
              "      <td>0.029142</td>\n",
              "      <td>2.363531</td>\n",
              "      <td>2.665651</td>\n",
              "      <td>-0.157558</td>\n",
              "      <td>2.665651</td>\n",
              "      <td>0.029142</td>\n",
              "      <td>2.665651</td>\n",
              "      <td>-0.157558</td>\n",
              "      <td>1.476225</td>\n",
              "      <td>2.279926</td>\n",
              "      <td>1.136838</td>\n",
              "      <td>1.280729</td>\n",
              "      <td>1.513731</td>\n",
              "      <td>466.400273</td>\n",
              "    </tr>\n",
              "    <tr>\n",
              "      <th>1999</th>\n",
              "      <td>-0.897494</td>\n",
              "      <td>-0.897494</td>\n",
              "      <td>-0.157972</td>\n",
              "      <td>-2.353705</td>\n",
              "      <td>-3.271399</td>\n",
              "      <td>-3.548164</td>\n",
              "      <td>-0.304295</td>\n",
              "      <td>-1.529588</td>\n",
              "      <td>0.471004</td>\n",
              "      <td>1.132490</td>\n",
              "      <td>-1.614551</td>\n",
              "      <td>1.132490</td>\n",
              "      <td>-1.529588</td>\n",
              "      <td>1.132490</td>\n",
              "      <td>-1.614551</td>\n",
              "      <td>-0.253375</td>\n",
              "      <td>0.671513</td>\n",
              "      <td>-0.791555</td>\n",
              "      <td>0.121557</td>\n",
              "      <td>-0.304295</td>\n",
              "      <td>-376.497416</td>\n",
              "    </tr>\n",
              "  </tbody>\n",
              "</table>\n",
              "<p>2000 rows × 21 columns</p>\n",
              "</div>\n",
              "      <button class=\"colab-df-convert\" onclick=\"convertToInteractive('df-697ffadd-b024-4f36-82f5-1ae6c3eb7918')\"\n",
              "              title=\"Convert this dataframe to an interactive table.\"\n",
              "              style=\"display:none;\">\n",
              "        \n",
              "  <svg xmlns=\"http://www.w3.org/2000/svg\" height=\"24px\"viewBox=\"0 0 24 24\"\n",
              "       width=\"24px\">\n",
              "    <path d=\"M0 0h24v24H0V0z\" fill=\"none\"/>\n",
              "    <path d=\"M18.56 5.44l.94 2.06.94-2.06 2.06-.94-2.06-.94-.94-2.06-.94 2.06-2.06.94zm-11 1L8.5 8.5l.94-2.06 2.06-.94-2.06-.94L8.5 2.5l-.94 2.06-2.06.94zm10 10l.94 2.06.94-2.06 2.06-.94-2.06-.94-.94-2.06-.94 2.06-2.06.94z\"/><path d=\"M17.41 7.96l-1.37-1.37c-.4-.4-.92-.59-1.43-.59-.52 0-1.04.2-1.43.59L10.3 9.45l-7.72 7.72c-.78.78-.78 2.05 0 2.83L4 21.41c.39.39.9.59 1.41.59.51 0 1.02-.2 1.41-.59l7.78-7.78 2.81-2.81c.8-.78.8-2.07 0-2.86zM5.41 20L4 18.59l7.72-7.72 1.47 1.35L5.41 20z\"/>\n",
              "  </svg>\n",
              "      </button>\n",
              "      \n",
              "  <style>\n",
              "    .colab-df-container {\n",
              "      display:flex;\n",
              "      flex-wrap:wrap;\n",
              "      gap: 12px;\n",
              "    }\n",
              "\n",
              "    .colab-df-convert {\n",
              "      background-color: #E8F0FE;\n",
              "      border: none;\n",
              "      border-radius: 50%;\n",
              "      cursor: pointer;\n",
              "      display: none;\n",
              "      fill: #1967D2;\n",
              "      height: 32px;\n",
              "      padding: 0 0 0 0;\n",
              "      width: 32px;\n",
              "    }\n",
              "\n",
              "    .colab-df-convert:hover {\n",
              "      background-color: #E2EBFA;\n",
              "      box-shadow: 0px 1px 2px rgba(60, 64, 67, 0.3), 0px 1px 3px 1px rgba(60, 64, 67, 0.15);\n",
              "      fill: #174EA6;\n",
              "    }\n",
              "\n",
              "    [theme=dark] .colab-df-convert {\n",
              "      background-color: #3B4455;\n",
              "      fill: #D2E3FC;\n",
              "    }\n",
              "\n",
              "    [theme=dark] .colab-df-convert:hover {\n",
              "      background-color: #434B5C;\n",
              "      box-shadow: 0px 1px 3px 1px rgba(0, 0, 0, 0.15);\n",
              "      filter: drop-shadow(0px 1px 2px rgba(0, 0, 0, 0.3));\n",
              "      fill: #FFFFFF;\n",
              "    }\n",
              "  </style>\n",
              "\n",
              "      <script>\n",
              "        const buttonEl =\n",
              "          document.querySelector('#df-697ffadd-b024-4f36-82f5-1ae6c3eb7918 button.colab-df-convert');\n",
              "        buttonEl.style.display =\n",
              "          google.colab.kernel.accessAllowed ? 'block' : 'none';\n",
              "\n",
              "        async function convertToInteractive(key) {\n",
              "          const element = document.querySelector('#df-697ffadd-b024-4f36-82f5-1ae6c3eb7918');\n",
              "          const dataTable =\n",
              "            await google.colab.kernel.invokeFunction('convertToInteractive',\n",
              "                                                     [key], {});\n",
              "          if (!dataTable) return;\n",
              "\n",
              "          const docLinkHtml = 'Like what you see? Visit the ' +\n",
              "            '<a target=\"_blank\" href=https://colab.research.google.com/notebooks/data_table.ipynb>data table notebook</a>'\n",
              "            + ' to learn more about interactive tables.';\n",
              "          element.innerHTML = '';\n",
              "          dataTable['output_type'] = 'display_data';\n",
              "          await google.colab.output.renderOutput(dataTable, element);\n",
              "          const docLink = document.createElement('div');\n",
              "          docLink.innerHTML = docLinkHtml;\n",
              "          element.appendChild(docLink);\n",
              "        }\n",
              "      </script>\n",
              "    </div>\n",
              "  </div>\n",
              "  "
            ],
            "text/plain": [
              "            x0        x1        x2  ...       x18       x19      target\n",
              "0     0.591690  0.591690  1.172172  ...  0.636366  1.070023  183.381979\n",
              "1     0.617718  0.617718  1.066885  ...  0.605663  0.800897  171.166244\n",
              "2    -0.091250 -0.091250  0.460780  ... -0.826144 -0.361113 -310.459284\n",
              "3    -0.264834 -0.264834  1.061765  ...  0.916976  1.198790  228.015980\n",
              "4     0.308724  0.308724  0.793572  ... -0.607837  0.038154  -51.379428\n",
              "...        ...       ...       ...  ...       ...       ...         ...\n",
              "1995  0.653463  0.653463  1.043070  ...  0.611042 -0.233265   70.740241\n",
              "1996  2.141161  2.141161  2.645677  ...  0.930585  1.990016  799.716237\n",
              "1997  0.570490  0.570490  1.162729  ...  1.184509  1.334873  342.857246\n",
              "1998  1.043742  1.043742  1.430562  ...  1.280729  1.513731  466.400273\n",
              "1999 -0.897494 -0.897494 -0.157972  ...  0.121557 -0.304295 -376.497416\n",
              "\n",
              "[2000 rows x 21 columns]"
            ]
          },
          "metadata": {},
          "execution_count": 3
        }
      ]
    },
    {
      "cell_type": "code",
      "source": [
        "regression_tree_df.info()"
      ],
      "metadata": {
        "colab": {
          "base_uri": "https://localhost:8080/"
        },
        "id": "H0Jyh27Rownl",
        "outputId": "7e573e7c-a193-4596-85ea-7ff590ba6e32"
      },
      "execution_count": 4,
      "outputs": [
        {
          "output_type": "stream",
          "name": "stdout",
          "text": [
            "<class 'pandas.core.frame.DataFrame'>\n",
            "RangeIndex: 2000 entries, 0 to 1999\n",
            "Data columns (total 21 columns):\n",
            " #   Column  Non-Null Count  Dtype  \n",
            "---  ------  --------------  -----  \n",
            " 0   x0      2000 non-null   float64\n",
            " 1   x1      2000 non-null   float64\n",
            " 2   x2      2000 non-null   float64\n",
            " 3   x3      2000 non-null   float64\n",
            " 4   x4      2000 non-null   float64\n",
            " 5   x5      2000 non-null   float64\n",
            " 6   x6      2000 non-null   float64\n",
            " 7   x7      2000 non-null   float64\n",
            " 8   x8      2000 non-null   float64\n",
            " 9   x9      2000 non-null   float64\n",
            " 10  x10     2000 non-null   float64\n",
            " 11  x11     2000 non-null   float64\n",
            " 12  x12     2000 non-null   float64\n",
            " 13  x13     2000 non-null   float64\n",
            " 14  x14     2000 non-null   float64\n",
            " 15  x15     2000 non-null   float64\n",
            " 16  x16     2000 non-null   float64\n",
            " 17  x17     2000 non-null   float64\n",
            " 18  x18     2000 non-null   float64\n",
            " 19  x19     2000 non-null   float64\n",
            " 20  target  2000 non-null   float64\n",
            "dtypes: float64(21)\n",
            "memory usage: 328.2 KB\n"
          ]
        }
      ]
    },
    {
      "cell_type": "code",
      "source": [
        "regression_tree_df.isnull().sum()"
      ],
      "metadata": {
        "colab": {
          "base_uri": "https://localhost:8080/"
        },
        "id": "5SqFPkHiub9l",
        "outputId": "6e300cf2-7262-43b6-927c-6dd1365f488f"
      },
      "execution_count": 5,
      "outputs": [
        {
          "output_type": "execute_result",
          "data": {
            "text/plain": [
              "x0        0\n",
              "x1        0\n",
              "x2        0\n",
              "x3        0\n",
              "x4        0\n",
              "x5        0\n",
              "x6        0\n",
              "x7        0\n",
              "x8        0\n",
              "x9        0\n",
              "x10       0\n",
              "x11       0\n",
              "x12       0\n",
              "x13       0\n",
              "x14       0\n",
              "x15       0\n",
              "x16       0\n",
              "x17       0\n",
              "x18       0\n",
              "x19       0\n",
              "target    0\n",
              "dtype: int64"
            ]
          },
          "metadata": {},
          "execution_count": 5
        }
      ]
    },
    {
      "cell_type": "markdown",
      "source": [
        "Passo 3 - Separação dos dados"
      ],
      "metadata": {
        "id": "mPvpb76or5U4"
      }
    },
    {
      "cell_type": "code",
      "source": [
        "X_regression_tree=regression_tree_df.iloc[:,0:20].values"
      ],
      "metadata": {
        "id": "TyEpBml_pEu7"
      },
      "execution_count": 6,
      "outputs": []
    },
    {
      "cell_type": "code",
      "source": [
        "X_regression_tree"
      ],
      "metadata": {
        "colab": {
          "base_uri": "https://localhost:8080/"
        },
        "id": "xVi1g6zQpTXO",
        "outputId": "954f3daf-5cfb-4b67-a066-92212bf1ee5d"
      },
      "execution_count": 7,
      "outputs": [
        {
          "output_type": "execute_result",
          "data": {
            "text/plain": [
              "array([[ 0.59169004,  0.59169004,  1.17217183, ...,  0.22801365,\n",
              "         0.63636576,  1.07002268],\n",
              "       [ 0.61771849,  0.61771849,  1.06688505, ...,  0.32706374,\n",
              "         0.60566298,  0.80089738],\n",
              "       [-0.09125019, -0.09125019,  0.46077982, ..., -1.00180499,\n",
              "        -0.82614424, -0.36111299],\n",
              "       ...,\n",
              "       [ 0.57048987,  0.57048987,  1.16272867, ...,  0.87200544,\n",
              "         1.18450874,  1.33487346],\n",
              "       [ 1.04374214,  1.04374214,  1.43056249, ...,  1.13683769,\n",
              "         1.28072937,  1.51373134],\n",
              "       [-0.89749385, -0.89749385, -0.15797229, ..., -0.79155455,\n",
              "         0.12155698, -0.3042951 ]])"
            ]
          },
          "metadata": {},
          "execution_count": 7
        }
      ]
    },
    {
      "cell_type": "code",
      "source": [
        "y_regression_tree=regression_tree_df.iloc[:,20].values"
      ],
      "metadata": {
        "id": "1wJhyjLhpcSb"
      },
      "execution_count": 8,
      "outputs": []
    },
    {
      "cell_type": "code",
      "source": [
        "y_regression_tree"
      ],
      "metadata": {
        "colab": {
          "base_uri": "https://localhost:8080/"
        },
        "id": "7PGKUibdph4M",
        "outputId": "41eaf140-f80f-48d8-f20e-f163937da092"
      },
      "execution_count": 9,
      "outputs": [
        {
          "output_type": "execute_result",
          "data": {
            "text/plain": [
              "array([ 183.38197899,  171.16624379, -310.45928386, ...,  342.85724559,\n",
              "        466.40027284, -376.49741594])"
            ]
          },
          "metadata": {},
          "execution_count": 9
        }
      ]
    },
    {
      "cell_type": "markdown",
      "source": [
        "Passo 4 - Separação dos dados de treinamento e teste"
      ],
      "metadata": {
        "id": "IYbQuWb-r9Tn"
      }
    },
    {
      "cell_type": "code",
      "source": [
        "from sklearn.model_selection import train_test_split\n",
        "from sklearn.model_selection import cross_val_score"
      ],
      "metadata": {
        "id": "bx__ZwRZptrJ"
      },
      "execution_count": 10,
      "outputs": []
    },
    {
      "cell_type": "code",
      "source": [
        "from sklearn.preprocessing import StandardScaler"
      ],
      "metadata": {
        "id": "KdCm9tvkwQny"
      },
      "execution_count": 11,
      "outputs": []
    },
    {
      "cell_type": "code",
      "source": [
        "X_regression_treinamento, X_regression_teste, y_regression_treinamento, y_regression_teste = train_test_split(X_regression_tree, y_regression_tree, test_size = 0.30)"
      ],
      "metadata": {
        "id": "6GRW0UDSqDHj"
      },
      "execution_count": 12,
      "outputs": []
    },
    {
      "cell_type": "code",
      "source": [
        "X_regression_treinamento.shape, y_regression_treinamento.shape"
      ],
      "metadata": {
        "colab": {
          "base_uri": "https://localhost:8080/"
        },
        "id": "5j_SCFoBqsYO",
        "outputId": "c0bead94-499c-40eb-cc3c-c47e8953e5f8"
      },
      "execution_count": 13,
      "outputs": [
        {
          "output_type": "execute_result",
          "data": {
            "text/plain": [
              "((1400, 20), (1400,))"
            ]
          },
          "metadata": {},
          "execution_count": 13
        }
      ]
    },
    {
      "cell_type": "markdown",
      "source": [
        "Passo 5 - Previsões"
      ],
      "metadata": {
        "id": "-5tNKyfQsCc5"
      }
    },
    {
      "cell_type": "code",
      "source": [
        "from sklearn.tree import DecisionTreeRegressor\n"
      ],
      "metadata": {
        "id": "vwsFxOudrUbK"
      },
      "execution_count": 14,
      "outputs": []
    },
    {
      "cell_type": "code",
      "source": [
        "regressor_arvore = DecisionTreeRegressor()\n",
        "regressor_arvore.fit(X_regression_treinamento, y_regression_treinamento)"
      ],
      "metadata": {
        "colab": {
          "base_uri": "https://localhost:8080/"
        },
        "id": "Pc0aE9sVr2r5",
        "outputId": "87b62051-1c8a-4970-c0ea-cfc0b9b28eec"
      },
      "execution_count": 15,
      "outputs": [
        {
          "output_type": "execute_result",
          "data": {
            "text/plain": [
              "DecisionTreeRegressor()"
            ]
          },
          "metadata": {},
          "execution_count": 15
        }
      ]
    },
    {
      "cell_type": "code",
      "source": [
        "previsoes=regressor_arvore.predict(X_regression_teste)"
      ],
      "metadata": {
        "id": "gSgG9Jz4sWRa"
      },
      "execution_count": 16,
      "outputs": []
    },
    {
      "cell_type": "code",
      "source": [
        "previsoes"
      ],
      "metadata": {
        "colab": {
          "base_uri": "https://localhost:8080/"
        },
        "id": "QSCfvLWLsizF",
        "outputId": "e86c0b65-34b7-47a9-cd89-92788a422e20"
      },
      "execution_count": 17,
      "outputs": [
        {
          "output_type": "execute_result",
          "data": {
            "text/plain": [
              "array([   11.01775103,  -183.36235254,   -45.71262773,   524.04957407,\n",
              "         -33.20183784,   234.72570961,   889.19446299,   102.03195849,\n",
              "         510.05859121,  -118.57994012,  -246.98198017,   136.70837291,\n",
              "        -280.69701525,   561.15270585,  1058.98752941,  -178.77640638,\n",
              "        -608.69700537,   122.59197597,   246.62798641,   -76.68539841,\n",
              "         228.3640075 ,   554.85178541,    67.36769767,   379.94756993,\n",
              "         798.98080083,   813.29766265,   621.9693399 ,  -311.61201202,\n",
              "         690.97550765,   518.55199368,   144.48316922,  -354.29759813,\n",
              "          -3.40574208,  -853.86897966,   884.43375692,   -78.0313468 ,\n",
              "        -916.46287651,  1022.78897795,  -165.57682814,   221.19202352,\n",
              "         889.19446299,   468.81924141,   141.55912224,   722.85481367,\n",
              "        -689.79697679,    41.92158744,  -822.01537929,   880.2685154 ,\n",
              "         317.82663477,   530.09974393,   371.89891527,   239.67570402,\n",
              "         -10.56952963,  -153.85638562,  -342.79687697,   238.94508419,\n",
              "         -10.71384812,   408.67118186,  -560.29980215,  -506.72251745,\n",
              "        -165.57682814,   183.24127034,   222.66456857,   303.00200109,\n",
              "          13.8476216 ,   -31.14326991,   362.8282246 ,  -425.33070041,\n",
              "        -199.00024186,   723.2958178 ,   803.88325886,   352.75732571,\n",
              "        -227.23266115,   186.0023454 ,   746.9090155 ,  -148.52948562,\n",
              "        -630.47132556,  -490.49755724,   191.18404962,  -610.17907081,\n",
              "         636.24969584,   169.64073114,  -143.26214827,    44.97886848,\n",
              "         379.78552646,  -202.67791755,    39.4914574 ,  1006.67785318,\n",
              "         270.09783906,   148.61578235,  -180.11506643,    88.82121482,\n",
              "          -2.79336207,   144.48316922,   -91.42461076,   -39.57153964,\n",
              "        -189.03773738,    67.91511342,   684.02690278,  1360.11056194,\n",
              "         640.4339114 ,  -846.59942584,   313.72795108,   293.09788344,\n",
              "         528.61959379,  -466.75463663,   353.51521918,   283.67481556,\n",
              "         362.48158406,   115.9137802 ,    37.06179727,  -772.10403915,\n",
              "         -27.6404636 ,   353.51521918,   729.68549939,  -101.74693388,\n",
              "         137.67493771, -1037.97048486,   -28.47053961,   423.91992483,\n",
              "         925.91426011,  -301.34824078,  -352.15692593,   215.65750419,\n",
              "         -51.63165432,   138.51440792,   -59.90083231,  -514.26805622,\n",
              "         397.39046762,   343.66130463,  -209.51854114,   304.87972569,\n",
              "        -921.92301008,   603.0335328 ,    13.8476216 ,   231.77991312,\n",
              "         115.9137802 ,   183.24127034,  1250.11163338,   -61.36923913,\n",
              "        -148.52948562,   351.00775914,   371.89891527,   480.31092801,\n",
              "        -159.52890346,   309.68516606,   -46.33423342,   541.26789373,\n",
              "          63.20216707,   318.77246958,    14.19771784,   159.52933456,\n",
              "         524.7987789 ,   183.24127034,  1026.21398433,   548.73800166,\n",
              "         254.29639744,   199.0889179 ,   435.54265108,   739.57061192,\n",
              "          47.45636934,  -313.51536587,   348.08911661,  -772.10403915,\n",
              "         348.78936718,   294.00577621,   397.39046762,   358.82868295,\n",
              "        -291.36465001,   -78.0313468 ,   152.56366053,   272.82497167,\n",
              "         530.99499532,   700.18713963,    58.04675982,  -203.20725426,\n",
              "         142.21007017,   291.22767327,   -17.49827955,   102.06890269,\n",
              "         304.87972569,   131.83941808,  -772.10403915,   575.9192244 ,\n",
              "         175.15289011,   803.66544147,   521.8742514 ,   566.05778674,\n",
              "        -199.00024186,   -43.99993699,  -148.52948562,  -579.62502638,\n",
              "         168.66213925,    37.06179727,  -214.83969261,  -426.68296622,\n",
              "        -219.86636945,   524.04957407,   348.78936718,   191.18404962,\n",
              "        -178.17680367,  -222.50063778,   219.39670146,   503.1296238 ,\n",
              "         176.6899592 ,   891.23535876,   726.8578456 ,   128.91976444,\n",
              "        -252.51789458,   429.43311962,   292.1286554 ,  -700.38281879,\n",
              "         348.08911661,  -157.53371066,  -153.86330503,   414.97172791,\n",
              "         291.22767327,    98.47457887,   434.74031763,   -78.60273334,\n",
              "         530.02981623,    53.41816063,   257.03093222,  -338.19907869,\n",
              "         -31.91484762,  -111.31414872,   722.85481367,   176.6899592 ,\n",
              "        1044.59208824,   -28.28294238,  -484.63054953,   701.75105203,\n",
              "        -274.86292587,   549.37674198,   410.30656901,  -602.51578681,\n",
              "         371.89891527,   549.37674198,   218.66637745,  -261.09359135,\n",
              "         865.38888758,   342.85724559,  -541.65335334,     3.84714006,\n",
              "         647.26227526,  -720.61026011,  -314.13600217,   242.27568108,\n",
              "        -418.68969213,   891.23535876,   267.0982637 ,  -371.24147726,\n",
              "        -272.31575438,   348.78936718,   160.5930821 ,  -559.63375532,\n",
              "         395.35265496,    81.52926873,   309.5200498 ,   818.95885381,\n",
              "         557.90693523,   588.23792351,   795.15695874,   -31.91484762,\n",
              "        -225.78501432,  -442.87295592,  -142.38894008,  -234.65023812,\n",
              "        1172.18861502,  -295.73219982,  -115.53827708,  -417.53693591,\n",
              "        -517.25520056,   -14.2573581 ,   700.18713963,   673.49208395,\n",
              "        -386.46630596,    80.38552761,   380.64175411,  -322.21367737,\n",
              "         -49.68132199,  -255.49087269,   138.51440792,   341.00373007,\n",
              "         397.39046762,   -12.66296691,   727.43494962,   195.27632028,\n",
              "         -27.6404636 ,  -139.2319503 ,   156.07130518,  -178.61094482,\n",
              "         466.46624323,    60.70081115,  -579.62502638,    92.73478128,\n",
              "           2.90456594,  -809.99617244,   -31.14326991,   418.56054206,\n",
              "        -320.42856805,   220.8878093 ,  -139.2319503 ,   527.15305037,\n",
              "        -221.61659037,  -468.61356697,   -18.94535445,   115.9137802 ,\n",
              "          11.01775103,  -100.34961275,   439.55409076,  -104.51395752,\n",
              "        -299.21080152,   399.58752375,   198.00991822,  1098.09429501,\n",
              "          83.34158686,   452.93766109,  1172.18861502,   171.16624379,\n",
              "         329.21268385,   797.54231095,   539.40237373,   530.57362821,\n",
              "        -515.22247425,   274.47133784,   362.48158406,   234.72570961,\n",
              "         309.40403716,   291.22767327,   149.02005712,   618.30353558,\n",
              "          44.97886848,   197.25557916,  -255.49087269,   547.69714056,\n",
              "          43.50319946,   879.07031819,   114.77845637,   650.01051835,\n",
              "         183.24127034,  -238.96233076,  -442.87295592,    30.56675597,\n",
              "         125.54532305,  -174.98139925,   485.46002185,   475.09849647,\n",
              "        -417.53693591,   341.79316084,  -608.69700537,   -54.4615455 ,\n",
              "         602.89331768,   316.04383108,   148.05568816,   432.70534082,\n",
              "         221.19202352,    98.47457887,  -197.37630169,   -30.29290361,\n",
              "         321.2836614 ,    90.90520931,   797.54231095,   757.34143788,\n",
              "          91.73751174,  -737.25158948,  -660.41556799,   423.91992483,\n",
              "        -304.80255959,  -199.00024186,   662.52053661,    73.39097985,\n",
              "         -18.94535445,  -236.35453658,  -546.91761281,    78.16788338,\n",
              "        -506.72251745,    49.15271445,  -218.61416506,  -560.29980215,\n",
              "         -94.00853282,   147.76389663,   647.26227526,   480.31092801,\n",
              "         -78.60273334,  -277.48441251,   -78.60273334,   515.85313399,\n",
              "        -254.44487502,    -3.40574208,  -293.6851872 ,  1208.27106372,\n",
              "         168.66213925,    51.66310674,   115.9137802 ,  -362.67570522,\n",
              "        1172.18861502,    -1.75496046,   144.48316922,  -254.44487502,\n",
              "        -100.34961275,  -608.69700537,   459.17317736,   522.80312608,\n",
              "        -608.69700537,   600.15312987,   468.35351761,   -20.87030928,\n",
              "          67.36769767,  1098.09429501,    90.91267549,   672.86204493,\n",
              "         362.8282246 ,   109.29952575,   999.02249404,   484.07213363,\n",
              "          43.50319946,   -88.46476761,   283.67481556,   303.65449521,\n",
              "       -1063.79277075,  -111.31414872,    89.39375792,  -359.99999094,\n",
              "         468.81924141,   -94.00853282,  -311.72746455,   308.00264239,\n",
              "         561.15270585,   291.22767327,   343.66130463,  1006.67785318,\n",
              "        -101.48063103,   311.61981328,   870.07803523,  -182.91007625,\n",
              "           2.90456594,   334.28556051,  -597.85210618,  -273.31523034,\n",
              "         569.60913005,   358.82868295,  -381.63517521,   410.30656901,\n",
              "         413.0038074 ,   138.51440792,   -95.31250063,   407.91490274,\n",
              "         149.74070071,   359.19319833,   588.23792351,  -197.37630169,\n",
              "        -737.25158948,    60.00986546,  -637.33246572,  -153.85638562,\n",
              "         615.66147236,   673.99018074,   445.36039707,   109.29952575,\n",
              "         903.04936356,   109.29952575,   -79.5823428 ,   717.11957783,\n",
              "         427.9049223 ,   283.67481556,  -236.41081711,   314.51274588,\n",
              "         471.07464776,  -160.71383463,  1064.64311862,  -373.56908947,\n",
              "         335.36988399,   112.71955767,   248.33585347,   321.2836614 ,\n",
              "        -423.51878361,   -91.42461076,  -506.72251745,   318.77246958,\n",
              "        -430.03109741,  -100.34961275,  -221.61659037,   150.04889247,\n",
              "         156.07130518,    30.56675597,  -430.03109741,    79.8047209 ,\n",
              "        -250.16093229,  -608.69700537,   317.98268661,   870.07803523,\n",
              "        -340.02292782,   744.60742827,   131.83941808,  -637.33246572,\n",
              "        -199.00024186,  -362.55850397,   137.67493771,   335.4153908 ,\n",
              "         149.02005712,   507.731265  ,   327.11225695,  -686.43173782,\n",
              "         672.7783427 ,   407.91490274,   229.71226657,  -340.69441048,\n",
              "         -28.28294238,   323.82503256,   -23.87179487,  -710.5609396 ,\n",
              "        -444.0154968 ,   -14.2573581 ,  -200.95264006,   248.33585347,\n",
              "         296.35819109,   332.13238273,   423.91992483,  -501.42051118,\n",
              "         460.82438522,   313.72795108,   -88.46476761,   168.66213925,\n",
              "         239.33119846,   647.26227526,   168.66213925,   450.42017704,\n",
              "         516.11788026,   469.74907042,   587.16885746,  -478.83749766,\n",
              "        -394.50494704,   881.05470536,  -403.01864294,    76.57143021,\n",
              "         524.7987789 ,   424.26382062,  -324.32081658,   387.42701104,\n",
              "         122.59197597,   547.30551678,   291.22767327,    49.15271445,\n",
              "        -202.67791755,   251.67899919,    47.45636934,   -58.50908181,\n",
              "         680.20137329,   561.15270585,  -295.46602813,  -200.95264006,\n",
              "         109.29952575,   726.8578456 ,   -44.86013633,  -148.52948562,\n",
              "         264.93930085,   186.0023454 ,  -201.49139023,   270.17506546,\n",
              "         122.72161758,   797.54231095,   603.04558932,  -501.42051118,\n",
              "         -14.2573581 ,  -251.85502387,   847.72234483,   122.59197597,\n",
              "         399.58752375,   410.36575541,   107.84554416,  -204.85000383,\n",
              "         441.63939237,   285.11814346,  -273.31523034,  1006.67785318,\n",
              "        -430.03109741,   500.79340315,  -394.50494704,  -177.84890541,\n",
              "       -1128.86199897,   435.54265108,   112.71955767,   156.80334277,\n",
              "          60.22026675,  -145.46208515,   411.0886287 ,   600.15312987,\n",
              "         150.04889247,  -279.74595119,   803.66544147,   729.68549939,\n",
              "         228.01598021,   221.19202352,   522.80312608,   674.06472004,\n",
              "        -235.18546287,   213.36792473,  -514.26805622,  -426.83537547])"
            ]
          },
          "metadata": {},
          "execution_count": 17
        }
      ]
    },
    {
      "cell_type": "code",
      "source": [
        " y_regression_teste"
      ],
      "metadata": {
        "colab": {
          "base_uri": "https://localhost:8080/"
        },
        "id": "iXlxcw6isstE",
        "outputId": "c785358a-df2a-46ed-e5ca-18f70ca0e74b"
      },
      "execution_count": 18,
      "outputs": [
        {
          "output_type": "execute_result",
          "data": {
            "text/plain": [
              "array([ 6.20135265e+01, -2.16544203e+02,  5.08214157e+01,  5.39572515e+02,\n",
              "       -2.49253887e+01,  2.58428866e+02,  9.19413936e+02,  1.00487153e+02,\n",
              "        4.21417985e+02, -1.15275544e+02, -1.57835711e+02,  5.13708198e+01,\n",
              "       -2.25099269e+02,  5.62231527e+02,  1.07106603e+03, -1.32122851e+02,\n",
              "       -6.19732113e+02,  1.41210128e+02,  2.09234024e+02, -8.37442160e+01,\n",
              "        2.65696898e+02,  5.79132337e+02, -3.14118359e+01,  3.83131819e+02,\n",
              "        8.63381599e+02,  7.46214366e+02,  6.75060254e+02, -3.44907861e+02,\n",
              "        7.27281657e+02,  5.34651277e+02,  3.56776563e+02, -2.58915548e+02,\n",
              "       -5.07328410e+01, -9.08012271e+02,  9.56599222e+02, -7.08844559e+01,\n",
              "       -9.83825206e+02,  9.01646049e+02, -1.91404153e+02,  1.71317542e+02,\n",
              "        8.92821536e+02,  5.38879774e+02, -6.58227744e-01,  4.29579982e+02,\n",
              "       -7.04008884e+02,  3.99290192e+01, -7.44349979e+02,  7.89897891e+02,\n",
              "        3.53415913e+02,  5.82927948e+02,  2.91094250e+02,  2.71558669e+02,\n",
              "        4.16176191e+01, -9.80281945e+01, -4.98966335e+02,  2.67238504e+02,\n",
              "       -3.30251550e+01,  4.02482297e+02, -4.60169813e+02, -5.64224978e+02,\n",
              "       -5.82228896e+01,  1.24973474e+02,  1.89729955e+02,  2.73377762e+02,\n",
              "       -4.77467071e-01,  1.06326078e+02,  3.23150991e+02, -5.25739370e+02,\n",
              "       -2.77445270e+02,  8.05942463e+02,  9.18171290e+02,  3.17648182e+02,\n",
              "       -2.43084579e+02,  1.16106518e+02,  6.46760417e+02, -9.25206332e+01,\n",
              "       -6.83008523e+02, -4.12376905e+02,  2.36650407e+02, -4.87471415e+02,\n",
              "        6.40607021e+02,  2.57032356e+02, -1.43105585e+02, -8.80491786e+01,\n",
              "        3.49404459e+02, -2.53788759e+02,  1.09218628e+02,  9.94646753e+02,\n",
              "        2.04706360e+02,  1.08816740e+02, -2.56120522e+02,  6.60451626e+01,\n",
              "       -2.08380568e+01,  2.98698515e+02, -7.60442139e+01,  4.97086919e+01,\n",
              "       -1.52891613e+02,  6.61924842e+01,  6.27935647e+02,  1.31547447e+03,\n",
              "        5.85505286e+02, -1.00282038e+03,  3.63836769e+02,  2.63478790e+02,\n",
              "        4.87362380e+02, -3.19015060e+02,  3.29448795e+02,  2.54491933e+02,\n",
              "        3.40481870e+02,  9.18526274e+01,  4.32049317e+01, -7.83048462e+02,\n",
              "       -1.65795289e+01,  2.62265080e+02,  5.42886420e+02, -5.25682743e+01,\n",
              "        1.20865938e+02, -9.45967799e+02, -2.77021857e+01,  4.29003118e+02,\n",
              "        9.07054031e+02, -3.56770074e+02, -3.87188877e+02,  2.20493153e+02,\n",
              "       -4.34500368e+01,  2.04530017e+02,  4.91856532e+00, -5.00963533e+02,\n",
              "        4.04077064e+02,  2.67696315e+02, -1.53790169e+02,  3.41233576e+02,\n",
              "       -9.50084869e+02,  6.11609092e+02,  1.95773473e+00,  1.57048308e+02,\n",
              "        2.43312148e+02,  1.88945246e+02,  1.21357329e+03, -7.11426747e+01,\n",
              "       -9.37645899e+01,  3.80454234e+02,  3.53114377e+02,  3.77050151e+02,\n",
              "       -2.49136015e+02,  2.64193475e+02, -4.68388150e+00,  5.21987033e+02,\n",
              "        4.75524417e+01,  4.13307153e+02,  6.54362337e+01,  1.76072194e+02,\n",
              "        3.53399545e+02,  2.52180645e+02,  8.21775045e+02,  5.51640260e+02,\n",
              "        3.89555993e+02,  1.28206557e+02,  4.96262636e+02,  6.35589285e+02,\n",
              "        6.29329210e+01, -3.01815673e+02,  3.47087283e+02, -8.80145879e+02,\n",
              "        4.17923757e+02,  2.14228707e+02,  4.17712762e+02,  4.47287429e+02,\n",
              "       -3.11725760e+02, -8.46547815e+01,  1.24183329e+02,  3.23289502e+02,\n",
              "        5.04385139e+02,  6.58259284e+02,  1.11280688e+02, -2.26661202e+02,\n",
              "        1.23399335e+02,  2.84985712e+02, -1.16092106e+02,  3.69344013e+01,\n",
              "        3.90310964e+02,  1.05269364e+02, -8.91378713e+02,  5.75627345e+02,\n",
              "        1.77197938e+02,  9.19678744e+02,  5.03670514e+02,  5.93919753e+02,\n",
              "       -1.36283206e+02,  5.02202421e+01, -2.64142102e+02, -5.31406598e+02,\n",
              "        2.51935538e+02,  7.89854273e+00, -2.74748029e+02, -3.40494442e+02,\n",
              "       -2.13043087e+02,  4.87883193e+02,  4.48370784e+02,  2.58874263e+02,\n",
              "       -1.86794262e+02, -2.29150228e+02,  2.75550799e+02,  5.87073218e+02,\n",
              "        1.55733024e+02,  9.66272469e+02,  8.45120149e+02,  9.94823626e+01,\n",
              "       -3.85608082e+02,  4.62196660e+02,  3.27352437e+02, -5.84396547e+02,\n",
              "        3.05108270e+02, -1.37970422e+02, -1.13419459e+02,  4.48410551e+02,\n",
              "        3.19663097e+02,  1.67448004e+02,  4.22123242e+02, -8.31823568e+01,\n",
              "        4.59969928e+02,  2.22586218e+01,  3.44055105e+02, -3.54610847e+02,\n",
              "       -4.24137872e+01, -1.16397463e+02,  6.29312205e+02,  9.37527546e+01,\n",
              "        9.78740219e+02, -1.88553227e+01, -4.18795879e+02,  6.91102641e+02,\n",
              "       -3.28707219e+02,  3.41276317e+02,  3.51389917e+02, -5.94227195e+02,\n",
              "        4.29596825e+02,  4.75989000e+02,  2.93102835e+02, -4.26538935e+02,\n",
              "        7.53439723e+02,  3.21359157e+02, -4.74541795e+02, -2.98491227e+01,\n",
              "        7.40310137e+02, -1.00192532e+03, -2.98655770e+02,  1.79945244e+02,\n",
              "       -4.11518016e+02,  1.02576430e+03,  1.73225862e+02, -4.13604074e+02,\n",
              "       -2.37934454e+02,  5.03014782e+02,  1.06355451e+02, -5.85224039e+02,\n",
              "        4.13628694e+02,  9.41183850e+01,  2.91554153e+02,  7.01202490e+02,\n",
              "        5.89964137e+02,  5.93796573e+02,  7.10418854e+02, -8.08404805e+01,\n",
              "       -1.40471586e+02, -3.09928138e+02, -3.08770152e+02, -1.68757745e+02,\n",
              "        1.15740711e+03, -2.35388864e+02,  9.26571759e-01, -4.19645655e+02,\n",
              "       -3.84906922e+02, -5.50810467e+01,  7.23180128e+02,  6.78162415e+02,\n",
              "       -3.01781950e+02,  1.11099976e+02,  3.74287022e+02, -3.59966161e+02,\n",
              "        9.58198855e+00, -3.07752557e+02,  1.72557830e+02,  3.19632003e+02,\n",
              "        3.93250435e+02,  1.32744087e+02,  7.17401409e+02,  1.53148219e+02,\n",
              "        8.37588590e+00, -2.26703649e+02,  1.46055340e+02, -1.56098846e+02,\n",
              "        5.13201862e+02,  9.56638012e-01, -5.74642399e+02,  4.92984750e+01,\n",
              "        5.13625816e+01, -8.48296585e+02,  4.99989060e+01,  4.54421966e+02,\n",
              "       -3.71024930e+02,  7.78777091e+01, -1.49947638e+02,  4.51685394e+02,\n",
              "       -3.85460522e+02, -4.59789932e+02, -1.72554026e+02,  1.65212843e+02,\n",
              "        2.03726154e+01, -1.28796814e+02,  4.72029335e+02, -7.78791240e+01,\n",
              "       -4.05547108e+02,  4.17336548e+02,  1.03222439e+02,  1.03278186e+03,\n",
              "        4.14192344e+01,  4.41365836e+02,  1.34269750e+03,  2.87279195e+02,\n",
              "        1.74731300e+02,  8.00553513e+02,  5.64929234e+02,  5.80497238e+02,\n",
              "       -4.66039711e+02,  3.37185665e+02,  4.01538280e+02,  2.54854707e+02,\n",
              "        2.64871771e+02,  2.63545597e+02, -1.43664876e+01,  5.69780173e+02,\n",
              "       -4.88408272e+01,  1.13599320e+02, -3.27431195e+02,  6.68372346e+02,\n",
              "        4.08948006e+01,  8.66936730e+02,  1.10969541e+02,  7.31981285e+02,\n",
              "        2.22609339e+02, -1.45234071e+02, -3.46914674e+02,  4.26725886e+01,\n",
              "        1.12840561e+02, -4.74436272e+01,  4.36871156e+02,  5.33855842e+02,\n",
              "       -4.31616565e+02,  3.90060637e+02, -5.92969061e+02, -8.71071431e+01,\n",
              "        6.86803536e+02,  1.97069144e+02,  1.43471195e+02,  4.78294929e+02,\n",
              "        3.07426950e+02,  8.83451946e+01, -1.48864674e+02,  3.67296274e+01,\n",
              "        4.31055673e+02,  1.70174995e+02,  7.91789000e+02,  7.63375945e+02,\n",
              "        1.44062030e+02, -8.15150318e+02, -7.21540462e+02,  5.15420506e+02,\n",
              "       -3.29259287e+02, -2.33672595e+02,  5.74448945e+02,  6.11479080e+01,\n",
              "       -5.24096635e+01, -1.58339791e+02, -5.79022462e+02,  1.22965569e+02,\n",
              "       -4.97641706e+02,  6.72801825e+01, -1.79482780e+02, -5.71169581e+02,\n",
              "        6.67707894e+00,  5.76651685e+01,  6.81160062e+02,  4.22090641e+02,\n",
              "       -7.88624096e+01, -3.21305233e+02,  3.67378999e+01,  6.20604146e+02,\n",
              "       -2.68287267e+02,  2.30285591e+01, -2.77607627e+02,  1.19625202e+03,\n",
              "        2.77781406e+02,  1.10231737e+02,  2.07765455e+02, -2.70098744e+02,\n",
              "        1.23887140e+03,  1.88008751e+01,  1.81016499e+02, -2.46045668e+02,\n",
              "       -1.40778995e+02, -6.46618243e+02,  5.33049465e+02,  4.35200922e+02,\n",
              "       -6.08625356e+02,  5.21300079e+02,  5.68198997e+02,  6.27896154e+01,\n",
              "        7.59360247e+01,  1.17565169e+03,  1.01503284e+02,  7.13256405e+02,\n",
              "        3.68916782e+02,  3.87499565e+01,  1.00806223e+03,  4.68026721e+02,\n",
              "        1.84309836e+01, -2.19021171e+01,  2.37828097e+02,  2.48034766e+02,\n",
              "       -1.17921970e+03, -6.91487109e+01,  1.00292171e+02, -4.10636153e+02,\n",
              "        5.24290781e+02, -4.75967466e+01, -2.14883567e+02,  3.68312030e+02,\n",
              "        5.24444622e+02,  3.44608201e+02,  3.62441375e+02,  1.06877707e+03,\n",
              "       -9.91945399e+01,  3.53354783e+02,  6.94407425e+02, -2.85586004e+01,\n",
              "        5.41860849e+01,  3.30846172e+02, -5.22230320e+02, -1.23194605e+02,\n",
              "        6.01444892e+02,  3.63207604e+02, -4.09736196e+02,  5.10477407e+02,\n",
              "        3.39498688e+02,  2.75221777e+02, -6.40586520e+01,  5.61546277e+02,\n",
              "        8.86277575e+01,  3.24270673e+02,  7.22045314e+02, -1.70673089e+02,\n",
              "       -9.18059792e+02,  1.81120964e+02, -6.37749797e+02, -6.79122804e+01,\n",
              "        5.83343445e+02,  6.37286683e+02,  4.32974609e+02,  4.62127331e+01,\n",
              "        7.58425868e+02,  6.78059732e+01, -3.33151800e+00,  6.64617154e+02,\n",
              "        4.69686541e+02,  2.75411620e+02, -2.64245315e+02,  3.46166098e+02,\n",
              "        3.87246061e+02, -1.44633983e+02,  1.13011500e+03, -3.62115109e+02,\n",
              "        2.72240053e+02,  2.27461180e+02,  2.33914296e+02,  3.04239718e+02,\n",
              "       -5.09396433e+02, -2.99461661e+01, -4.92762291e+02,  3.48574214e+02,\n",
              "       -4.41731174e+02, -1.71174534e+02, -2.58270547e+02,  1.48377295e+02,\n",
              "        2.09096775e+02,  6.20213690e+01, -3.54182870e+02,  7.22051652e+01,\n",
              "       -1.80736905e+02, -7.13455068e+02,  2.87725156e+02,  6.69843725e+02,\n",
              "       -3.52977565e+02,  7.76433519e+02,  1.23476019e+02, -6.64332609e+02,\n",
              "       -1.68339908e+02, -3.77405812e+02,  8.62505508e+01,  3.57793511e+02,\n",
              "       -6.40523939e-02,  5.65808836e+02,  3.93270253e+02, -6.19465538e+02,\n",
              "        7.52345427e+02,  3.60386660e+02,  2.48332202e+02, -2.73895100e+02,\n",
              "       -4.63086542e+01,  3.60528462e+02, -5.06681066e+01, -7.03515266e+02,\n",
              "       -5.13815960e+02,  5.43152470e+01, -1.69224647e+02,  2.61276938e+02,\n",
              "        3.96097081e+02,  2.54632914e+02,  4.26072387e+02, -4.70782393e+02,\n",
              "        3.77113382e+02,  3.09977145e+02, -1.67576324e+02,  2.19838930e+02,\n",
              "        2.35070623e+02,  6.98181740e+02,  2.52976942e+02,  4.66400273e+02,\n",
              "        5.35350108e+02,  5.43724164e+02,  5.89705009e+02, -5.85459761e+02,\n",
              "       -3.85536108e+02,  8.78762518e+02, -3.60408332e+02,  8.54520161e+01,\n",
              "        4.63729398e+02,  4.03437846e+02, -3.40457388e+02,  3.76207306e+02,\n",
              "        2.05922921e+02,  5.09970557e+02,  3.12537101e+02,  3.25845481e+01,\n",
              "       -3.00789023e+02,  1.12368256e+02,  2.93272825e+00, -2.76531759e+01,\n",
              "        6.43989859e+02,  6.14706664e+02, -2.77003551e+02, -1.04735355e+02,\n",
              "        1.12112582e+02,  8.24889682e+02, -2.40905898e+01, -1.87990671e+02,\n",
              "        2.66991445e+02,  1.29370650e+02, -1.71092443e+02,  2.08280372e+02,\n",
              "        1.29455703e+02,  8.96844872e+02,  6.30882830e+02, -4.27256347e+02,\n",
              "       -4.23133824e+01, -2.17569961e+02,  8.62769014e+02,  9.67028032e+01,\n",
              "        3.01327661e+02,  3.59358343e+02,  1.43483439e+02, -2.23395834e+02,\n",
              "        4.66159258e+02,  2.41845845e+02, -2.46677957e+02,  1.16302037e+03,\n",
              "       -3.60520636e+02,  6.34573020e+02, -3.09876352e+02, -2.71781237e+02,\n",
              "       -1.01429325e+03,  3.99497088e+02,  1.80515726e+02,  1.45227102e+02,\n",
              "       -4.12259189e+00, -2.08062727e+02,  4.16309312e+02,  6.23390920e+02,\n",
              "        1.47526104e+02, -2.88095041e+02,  7.02642177e+02,  5.78088802e+02,\n",
              "        1.35280429e+02,  3.41469353e+02,  4.31450415e+02,  7.38625469e+02,\n",
              "       -2.60865006e+02,  1.31956587e+02, -5.62105748e+02, -4.51880065e+02])"
            ]
          },
          "metadata": {},
          "execution_count": 18
        }
      ]
    },
    {
      "cell_type": "markdown",
      "source": [
        "Passo 6 - Cálculo do MAE"
      ],
      "metadata": {
        "id": "r7XwCDYosPOX"
      }
    },
    {
      "cell_type": "code",
      "source": [
        "from sklearn.metrics import accuracy_score, classification_report"
      ],
      "metadata": {
        "id": "PnJzQTVUsxoV"
      },
      "execution_count": 19,
      "outputs": []
    },
    {
      "cell_type": "code",
      "source": [
        "from sklearn.metrics import mean_absolute_error\n",
        "mean_absolute_error(y_regression_teste, previsoes)"
      ],
      "metadata": {
        "colab": {
          "base_uri": "https://localhost:8080/"
        },
        "id": "Yu6o6gJjxXEx",
        "outputId": "50d2f5f7-0b0d-4999-8ccb-fbae964f6c7e"
      },
      "execution_count": 20,
      "outputs": [
        {
          "output_type": "execute_result",
          "data": {
            "text/plain": [
              "54.574060237187815"
            ]
          },
          "metadata": {},
          "execution_count": 20
        }
      ]
    }
  ]
}